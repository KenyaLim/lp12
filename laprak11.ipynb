{
 "cells": [
  {
   "cell_type": "code",
   "execution_count": 1,
   "metadata": {},
   "outputs": [
    {
     "name": "stdout",
     "output_type": "stream",
     "text": [
      "True\n"
     ]
    }
   ],
   "source": [
    "a=(90,90,90,90)\n",
    "#true if elemen in a all same\n",
    "\n",
    "print(all(elem==a[0] for elem in a))\n"
   ]
  },
  {
   "cell_type": "code",
   "execution_count": 2,
   "metadata": {},
   "outputs": [
    {
     "name": "stdout",
     "output_type": "stream",
     "text": [
      "True\n"
     ]
    }
   ],
   "source": [
    "tA = (90, 90, 90, 90)\n",
    "\n",
    "result = all(x == tA[0] for x in tA)\n",
    "\n",
    "print(result)\n"
   ]
  },
  {
   "cell_type": "code",
   "execution_count": 17,
   "metadata": {},
   "outputs": [
    {
     "name": "stdout",
     "output_type": "stream",
     "text": [
      "NIM      = 71231025\n",
      "NAMA     = Kenya lihduahem hwdhqw\n",
      "ALAMAT   = yogya\n",
      "\n",
      "Nim = ('7', '1', '2', '3', '1', '0', '2', '5')\n",
      "\n",
      "Nama Terbalik = ['hwdhqw', 'lihduahem', 'Kenya']\n"
     ]
    }
   ],
   "source": [
    "d = ('Kenya lihduahem hwdhqw','71231025','yogya')\n",
    "nama = d[0]\n",
    "nim = d[1]\n",
    "alamat = d[2]\n",
    "print('NIM      =',nim)\n",
    "print('NAMA     =',nama)\n",
    "print('ALAMAT   =',alamat)\n",
    "a = tuple(nim)\n",
    "print('\\nNim =',a)\n",
    "rev = nama.split()[::-1]\n",
    "print('\\nNama Terbalik =',rev)"
   ]
  },
  {
   "cell_type": "code",
   "execution_count": 3,
   "metadata": {},
   "outputs": [
    {
     "name": "stdout",
     "output_type": "stream",
     "text": [
      "Nim    : 22064091\n",
      "Nama   : Matahari Bhakti Nendya\n",
      "Alamat : Bantul, DI Yogyakarta\n",
      "\n",
      "Nim: ('2', '2', '0', '6', '4', '0', '9', '1')\n",
      "Nama depan: ('a', 't', 'a', 'h', 'a', 'r', 'i')\n",
      "Nama Terbalik: ('Nendya', 'Bhakti', 'Matahari')\n"
     ]
    }
   ],
   "source": [
    "t=(\"Matahari Bhakti Nendya\",\"22064091\",\"Bantul, DI Yogyakarta\")\n",
    "(nama, nim, alamat)=t\n",
    "nama_kebalik=str(t[0]).split()\n",
    "nama_kebalik.reverse()\n",
    "p=nama.split()\n",
    "q=tuple(p[0])\n",
    "x=tuple(q[1:])\n",
    "print(f\"Nim    : {nim}\\nNama   : {nama}\\nAlamat : {alamat}\")\n",
    "print(f\"\\nNim: {tuple(t[1])}\\nNama depan: {tuple(x)}\\nNama Terbalik: {tuple(nama_kebalik)}\")"
   ]
  }
 ],
 "metadata": {
  "kernelspec": {
   "display_name": "Python 3",
   "language": "python",
   "name": "python3"
  },
  "language_info": {
   "codemirror_mode": {
    "name": "ipython",
    "version": 3
   },
   "file_extension": ".py",
   "mimetype": "text/x-python",
   "name": "python",
   "nbconvert_exporter": "python",
   "pygments_lexer": "ipython3",
   "version": "3.12.3"
  }
 },
 "nbformat": 4,
 "nbformat_minor": 2
}
